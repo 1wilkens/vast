{
 "cells": [
  {
   "cell_type": "markdown",
   "id": "f7f42d94-973d-4224-9bbb-c5554b95e77d",
   "metadata": {},
   "source": [
    "# Getting started\n",
    "\n",
    "Before going any further, we need to start an instance of the vast server. \n",
    "\n",
    "To do so, we are going to download the static binary and start the VAST server process to this kernel."
   ]
  },
  {
   "cell_type": "code",
   "execution_count": null,
   "id": "7a4be63b-331d-4fb4-baed-9bffced67ed8",
   "metadata": {},
   "outputs": [],
   "source": [
    "# Download the static binary of VAST\n",
    "\n",
    "vast_version=\"2.1.0\"\n",
    "release_url=f\"https://github.com/tenzir/vast/releases/download/v{vast_version}/vast-linux-static.tar.gz\"\n",
    "\n",
    "!curl -sL {release_url} | tar -zvx bin/vast"
   ]
  },
  {
   "cell_type": "code",
   "execution_count": null,
   "id": "de2df863",
   "metadata": {},
   "outputs": [],
   "source": [
    "# Start VAST\n",
    "!bin/vast start"
   ]
  }
 ],
 "metadata": {
  "kernelspec": {
   "display_name": "Python 3 (ipykernel)",
   "language": "python",
   "name": "python3"
  },
  "language_info": {
   "codemirror_mode": {
    "name": "ipython",
    "version": 3
   },
   "file_extension": ".py",
   "mimetype": "text/x-python",
   "name": "python",
   "nbconvert_exporter": "python",
   "pygments_lexer": "ipython3",
   "version": "3.8.5"
  }
 },
 "nbformat": 4,
 "nbformat_minor": 5
}
