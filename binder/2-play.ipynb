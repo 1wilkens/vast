{
 "cells": [
  {
   "cell_type": "markdown",
   "id": "472570e2-0dd1-45c9-b1e3-54c0744d8218",
   "metadata": {},
   "source": [
    "# Playing with VAST\n",
    "\n",
    "Before running this, you need to execute `1-start.ipynb` and leave it in a running\n",
    "state so that the VAST server stays up.\n",
    "\n",
    "First, let us connect to the VAST instance:"
   ]
  },
  {
   "cell_type": "code",
   "execution_count": null,
   "id": "1997bd2f-8b0d-4168-a287-1d1cce53b87d",
   "metadata": {},
   "outputs": [],
   "source": [
    "import asyncio\n",
    "import pyvast\n",
    "import requests\n",
    "import logging\n",
    "import pyarrow\n",
    "import pandas\n",
    "\n",
    "logging.getLogger().setLevel(logging.INFO)\n",
    "\n",
    "vast = pyvast.VAST(binary=\"bin/vast\", logger=logging.getLogger())\n",
    "print(\"Connection successfull?\", await vast.test_connection())"
   ]
  },
  {
   "cell_type": "markdown",
   "id": "9310145a",
   "metadata": {},
   "source": [
    "Then we import a few events:"
   ]
  },
  {
   "cell_type": "code",
   "execution_count": null,
   "id": "75225797",
   "metadata": {},
   "outputs": [],
   "source": [
    "# Download test data\n",
    "resp = requests.get('https://raw.githubusercontent.com/tenzir/vast/master/vast/integration/data/suricata/eve.json')\n",
    "resp.raise_for_status()\n",
    "resp_content = resp.content.decode()\n",
    "\n",
    "# VAST import\n",
    "proc = await vast.import_().suricata().exec(stdin=resp_content)\n",
    "_, stderr = await proc.communicate()\n",
    "print(stderr.decode())"
   ]
  },
  {
   "cell_type": "markdown",
   "id": "4253752b-4bd4-4d4f-b6b4-7ca491872ee7",
   "metadata": {},
   "source": [
    "Now let's check what made its way into the database by issuing a `count` query:"
   ]
  },
  {
   "cell_type": "code",
   "execution_count": null,
   "id": "a4714f5e",
   "metadata": {},
   "outputs": [],
   "source": [
    "proc = await vast.count().exec()\n",
    "stdout, _ = await proc.communicate()\n",
    "print(stdout.decode().strip())"
   ]
  },
  {
   "cell_type": "markdown",
   "id": "10316c24",
   "metadata": {},
   "source": [
    "We can export these events to `pandas` directly through Arrow:"
   ]
  },
  {
   "cell_type": "code",
   "execution_count": null,
   "id": "8a33ed10",
   "metadata": {},
   "outputs": [],
   "source": [
    "proc = await vast.export().arrow().exec()\n",
    "stdout, _ = await proc.communicate()\n",
    "\n",
    "rec_batch_reader = pyarrow.ipc.open_stream(stdout)\n",
    "arrow_table = rec_batch_reader.read_all()\n",
    "arrow_table.to_pandas()"
   ]
  }
 ],
 "metadata": {
  "kernelspec": {
   "display_name": "Python 3 (ipykernel)",
   "language": "python",
   "name": "python3"
  },
  "language_info": {
   "codemirror_mode": {
    "name": "ipython",
    "version": 3
   },
   "file_extension": ".py",
   "mimetype": "text/x-python",
   "name": "python",
   "nbconvert_exporter": "python",
   "pygments_lexer": "ipython3",
   "version": "3.8.5"
  }
 },
 "nbformat": 4,
 "nbformat_minor": 5
}
